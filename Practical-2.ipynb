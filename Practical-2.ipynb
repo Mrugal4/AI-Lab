{
 "cells": [
  {
   "cell_type": "code",
   "execution_count": 10,
   "id": "bfce1fef",
   "metadata": {},
   "outputs": [
    {
     "name": "stdout",
     "output_type": "stream",
     "text": [
      "Enter Capacity of JugA : 5\n",
      "Enter Capacity of JugB : 3\n",
      "Set the goal : 2\n"
     ]
    }
   ],
   "source": [
    "# FOR THIS CASE\n",
    "#test case : 5,3 goal=2\n",
    "\n",
    "import queue\n",
    "\n",
    "capacityA =  int(input(\"Enter Capacity of JugA : \"))\n",
    "capacityB =  int(input(\"Enter Capacity of JugB : \"))\n",
    "jugA=queue.LifoQueue(maxsize=capacityA)\n",
    "jugB=queue.LifoQueue(maxsize=capacityB)\n",
    "\n",
    "goal=int(input(\"Set the goal : \"))\n",
    "\n",
    "step=0"
   ]
  },
  {
   "cell_type": "code",
   "execution_count": 11,
   "id": "75cf7e68",
   "metadata": {},
   "outputs": [
    {
     "name": "stdout",
     "output_type": "stream",
     "text": [
      "JugA is at  5\n",
      "JugB is at  0\n",
      "JugA is at  2\n",
      "JugB is at  3\n",
      "DONE\n",
      "JugA is at  2\n",
      "JugB is at  3\n",
      "Steps :  2\n"
     ]
    }
   ],
   "source": [
    "# Put A to B\n",
    "while True:\n",
    "    #Fill A\n",
    "    while not jugA.full():\n",
    "        jugA.put('w')\n",
    "    step=step+1\n",
    "    print(\"JugA is at \",jugA.qsize())\n",
    "    print(\"JugB is at \",jugB.qsize())\n",
    "    \n",
    "    if(jugA.qsize()==goal or jugB.qsize()==goal):\n",
    "        print('DONE')\n",
    "        print(\"JugA is at \",jugA.qsize())\n",
    "        print(\"JugB is at \",jugB.qsize())\n",
    "        print(\"Steps : \",step)\n",
    "        break\n",
    "        \n",
    "    #Pour A in B\n",
    "    while not jugB.full():\n",
    "        jugB.put(jugA.get())\n",
    "    step=step+1\n",
    "    print(\"JugA is at \",jugA.qsize())\n",
    "    print(\"JugB is at \",jugB.qsize())\n",
    "    \n",
    "    if(jugA.qsize()==goal or jugB.qsize()==goal ):\n",
    "        print('DONE')\n",
    "        print(\"JugA is at \",jugA.qsize())\n",
    "        print(\"JugB is at \",jugB.qsize())\n",
    "        print(\"Steps : \",step)\n",
    "        break\n",
    "    \n",
    "    #pouring out all water from jugB\n",
    "    count=0\n",
    "    while jugB.qsize()>0:\n",
    "        count=count+1\n",
    "        jugB.get()\n",
    "    step=step+1\n",
    "    print(\"hello\",count)\n",
    "    print(\"JugA is at \",jugA.qsize())\n",
    "    print(\"JugB is at \",jugB.qsize())\n",
    "    if(jugA.qsize()==goal or jugB.qsize()==goal ):\n",
    "        print('DONE')\n",
    "        print(\"JugA is at \",jugA.qsize())\n",
    "        print(\"JugB is at \",jugB.qsize())\n",
    "        print(\"Steps : \",step)\n",
    "        break\n",
    "        \n",
    "    #pouring remaining water of jugA in jugB\n",
    "    while not jugB.full():\n",
    "        jugB.put(jugA.get())\n",
    "        if jugA.empty():\n",
    "            break\n",
    "    step=step+1\n",
    "    print(\"JugA is at \",jugA.qsize())\n",
    "    print(\"JugB is at \",jugB.qsize())\n",
    "    \n",
    "    if(jugA.qsize()==goal or jugB.qsize()==goal ):\n",
    "        print('DONE')\n",
    "        print(\"JugA is at \",jugA.qsize())\n",
    "        print(\"JugB is at \",jugB.qsize())\n",
    "        print(\"Steps : \",step)\n",
    "        break"
   ]
  },
  {
   "cell_type": "code",
   "execution_count": null,
   "id": "d20782ee",
   "metadata": {},
   "outputs": [],
   "source": []
  }
 ],
 "metadata": {
  "kernelspec": {
   "display_name": "Python 3 (ipykernel)",
   "language": "python",
   "name": "python3"
  },
  "language_info": {
   "codemirror_mode": {
    "name": "ipython",
    "version": 3
   },
   "file_extension": ".py",
   "mimetype": "text/x-python",
   "name": "python",
   "nbconvert_exporter": "python",
   "pygments_lexer": "ipython3",
   "version": "3.9.13"
  }
 },
 "nbformat": 4,
 "nbformat_minor": 5
}
