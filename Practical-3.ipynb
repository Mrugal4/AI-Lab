{
 "cells": [
  {
   "cell_type": "code",
   "execution_count": 1,
   "id": "eb340352",
   "metadata": {},
   "outputs": [],
   "source": [
    "#GIven Graph\n",
    "graph = {\n",
    "     'A':{'B':3,'C':2,'F':5},\n",
    "     'B':{'A':3,'C':1,'D':6},\n",
    "     'C':{'A':2,'B':1,'D':3,'E':4},\n",
    "     'D':{'B':6,'C':4,'E':3},\n",
    "     'E':{'C':4,'D':3,'F':2},\n",
    "     'F':{'A':5,'E':2},\n",
    "}"
   ]
  },
  {
   "cell_type": "code",
   "execution_count": 40,
   "id": "89d35a84",
   "metadata": {},
   "outputs": [
    {
     "name": "stdout",
     "output_type": "stream",
     "text": [
      "['F', 'A', 'B']\n",
      "8\n",
      "Path from F to B is ['F', 'A', 'B'] with cost 8\n"
     ]
    }
   ],
   "source": [
    "from queue import Queue\n",
    "\n",
    "def func(start,end):\n",
    "    visited=set()\n",
    "    queue=Queue()\n",
    "    queue.put((start,[start],0))\n",
    "    \n",
    "    while not queue.empty():\n",
    "        node,path,cost=queue.get()\n",
    "        #print(path)\n",
    "        if node==end:\n",
    "            return path,cost\n",
    "        if node not in visited:\n",
    "            visited.add(node)\n",
    "            \n",
    "            for neighbour in graph[node]:\n",
    "                #print(graph[node][neighbour])\n",
    "                #print(\"---\")\n",
    "                if neighbour not in visited:\n",
    "                    queue.put((neighbour,path+[neighbour],cost+graph[node][neighbour]))\n",
    "            #print(\"------\")\n",
    "    return None\n",
    "\n",
    "start='F'\n",
    "end='B'\n",
    "path,cost=func(start,end)\n",
    "print(path)\n",
    "print(cost)\n",
    "if path:\n",
    "    print(f\"Path from F to B is {path} with cost {cost}\")\n",
    "else:\n",
    "    print(\"No such path exist\")"
   ]
  },
  {
   "cell_type": "code",
   "execution_count": null,
   "id": "b310119d",
   "metadata": {},
   "outputs": [],
   "source": []
  }
 ],
 "metadata": {
  "kernelspec": {
   "display_name": "Python 3 (ipykernel)",
   "language": "python",
   "name": "python3"
  },
  "language_info": {
   "codemirror_mode": {
    "name": "ipython",
    "version": 3
   },
   "file_extension": ".py",
   "mimetype": "text/x-python",
   "name": "python",
   "nbconvert_exporter": "python",
   "pygments_lexer": "ipython3",
   "version": "3.9.13"
  }
 },
 "nbformat": 4,
 "nbformat_minor": 5
}
