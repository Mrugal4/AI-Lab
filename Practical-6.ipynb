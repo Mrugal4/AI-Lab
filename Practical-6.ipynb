{
 "cells": [
  {
   "cell_type": "code",
   "execution_count": 10,
   "id": "08c71216",
   "metadata": {},
   "outputs": [
    {
     "name": "stdout",
     "output_type": "stream",
     "text": [
      "Enter x coordinate: 20\n",
      "Enter y coordinate: 20\n",
      "Enter value of k: 1\n",
      "positive category\n"
     ]
    }
   ],
   "source": [
    "import random\n",
    "import math\n",
    "\n",
    "# xCoor yCoor labelCoor\n",
    "x=[]\n",
    "y=[]\n",
    "label=[]\n",
    "\n",
    "for i in range(20):\n",
    "    x1=random.randint(1,50)\n",
    "    y1=random.randint(1,50)\n",
    "    x.append(x1)\n",
    "    y.append(y1)\n",
    "    if(x1<26 or y1<26):\n",
    "        label.append(1)\n",
    "    else:\n",
    "        label.append(-1)\n",
    "\n",
    "#Input\n",
    "u=int(input(\"Enter x coordinate: \"))\n",
    "v=int(input(\"Enter y coordinate: \"))\n",
    "k=int(input(\"Enter value of k: \"))\n",
    "t=1\n",
    "minArr=[]\n",
    "minindex=[]\n",
    "\n",
    "for i in range(20):\n",
    "    a1=[x[i],y[i]]\n",
    "    a2=[u,v]\n",
    "    d=math.dist(a1,a2)\n",
    "    if(len(minArr)<k):\n",
    "        minArr.append(d)\n",
    "        minindex.append(i)\n",
    "    else:\n",
    "        if(max(minArr)>d):\n",
    "            minArr[minArr.index(max(minArr))]=d\n",
    "            minindex[minArr.index(max(minArr))]=i\n",
    "countpos=0\n",
    "countneg=0\n",
    "for i in range(k):\n",
    "    if(category[minindex[i]]==1):\n",
    "        countpos+=1\n",
    "    else:\n",
    "        countneg+=1\n",
    "if(countpos>countneg):\n",
    "    print(\"positive category\")\n",
    "else:\n",
    "    print(\"Negative category\")"
   ]
  },
  {
   "cell_type": "code",
   "execution_count": null,
   "id": "cda4befc",
   "metadata": {},
   "outputs": [],
   "source": []
  }
 ],
 "metadata": {
  "kernelspec": {
   "display_name": "Python 3 (ipykernel)",
   "language": "python",
   "name": "python3"
  },
  "language_info": {
   "codemirror_mode": {
    "name": "ipython",
    "version": 3
   },
   "file_extension": ".py",
   "mimetype": "text/x-python",
   "name": "python",
   "nbconvert_exporter": "python",
   "pygments_lexer": "ipython3",
   "version": "3.9.13"
  }
 },
 "nbformat": 4,
 "nbformat_minor": 5
}
