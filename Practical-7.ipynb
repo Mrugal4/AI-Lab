{
 "cells": [
  {
   "cell_type": "code",
   "execution_count": 1,
   "id": "d1515ccb-274a-4a60-a8ba-230cfc24e28e",
   "metadata": {},
   "outputs": [],
   "source": [
    "attribute_list = [\"age\", \"income\", \"student\", \"credit_rating\", \"label\"]\n",
    "attribute_dict = {\"age\":{}, \"income\":{}, \"student\":{}, \"credit_rating\":{}, \"label\":{}}\n",
    "\n",
    "class Dataset:\n",
    "    def __init__(self, attr_list):\n",
    "        self.age = attr_list[0]\n",
    "        self.income = attr_list[1]\n",
    "        self.student = attr_list[2]\n",
    "        self.credit_rating = attr_list[3]\n",
    "        self.label = attr_list[4]\n",
    "        \n",
    "        for ind in range(len(attr_list)):\n",
    "            if attr_list[ind] not in attribute_dict[attribute_list[ind]].keys():\n",
    "                attribute_dict[attribute_list[ind]][attr_list[ind]] = 1\n",
    "            else:\n",
    "                attribute_dict[attribute_list[ind]][attr_list[ind]] += 1"
   ]
  },
  {
   "cell_type": "code",
   "execution_count": 2,
   "id": "93bfcf79-ad85-437b-8188-61559e434797",
   "metadata": {},
   "outputs": [],
   "source": [
    "dataset = [\n",
    "    Dataset([\"young\", \"high\", \"no\", \"fair\", \"NO\"]),\n",
    "    Dataset([\"young\", \"high\", \"no\", \"excellent\", \"NO\"]),\n",
    "    Dataset([\"mid_aged\", \"high\", \"no\", \"fair\", \"YES\"]),\n",
    "    Dataset([\"old\", \"medium\", \"no\", \"fair\", \"YES\"]),\n",
    "    Dataset([\"old\", \"low\", \"yes\", \"fair\", \"YES\"]),\n",
    "    Dataset([\"old\", \"low\", \"yes\", \"excellent\", \"NO\"]),\n",
    "    Dataset([\"mid_aged\", \"low\", \"yes\", \"excellent\", \"YES\"]),\n",
    "    Dataset([\"young\", \"medium\", \"no\", \"fair\", \"NO\"]),\n",
    "    Dataset([\"young\", \"low\", \"yes\", \"fair\", \"YES\"]),\n",
    "    Dataset([\"old\", \"medium\", \"yes\", \"fair\", \"YES\"]),\n",
    "    Dataset([\"young\", \"medium\", \"yes\", \"excellent\", \"YES\"]),\n",
    "    Dataset([\"mid_aged\", \"medium\", \"no\", \"excellent\", \"YES\"]),\n",
    "    Dataset([\"mid_aged\", \"high\", \"yes\", \"fair\", \"YES\"]),\n",
    "    Dataset([\"old\", \"medium\", \"no\", \"excellent\", \"NO\"])\n",
    "]"
   ]
  },
  {
   "cell_type": "code",
   "execution_count": 3,
   "id": "46d13550-6785-47da-ae68-2a270601bfe2",
   "metadata": {},
   "outputs": [],
   "source": [
    "input_tuple = {\"age\":\"young\", \"income\":\"medium\", \"student\":\"yes\", \"credit_rating\":\"fair\"}"
   ]
  },
  {
   "cell_type": "code",
   "execution_count": 4,
   "id": "c14addbf-5996-4abb-afca-3dc324b0dd67",
   "metadata": {},
   "outputs": [
    {
     "data": {
      "text/plain": [
       "['age', 'income', 'student', 'credit_rating', 'label']"
      ]
     },
     "execution_count": 4,
     "metadata": {},
     "output_type": "execute_result"
    }
   ],
   "source": [
    "attribute_list"
   ]
  },
  {
   "cell_type": "code",
   "execution_count": 5,
   "id": "64274ebf-3d51-42d7-b346-87e4ca87b195",
   "metadata": {
    "tags": []
   },
   "outputs": [
    {
     "data": {
      "text/plain": [
       "{'age': {'young': 5, 'mid_aged': 4, 'old': 5},\n",
       " 'income': {'high': 4, 'medium': 6, 'low': 4},\n",
       " 'student': {'no': 7, 'yes': 7},\n",
       " 'credit_rating': {'fair': 8, 'excellent': 6},\n",
       " 'label': {'NO': 5, 'YES': 9}}"
      ]
     },
     "execution_count": 5,
     "metadata": {},
     "output_type": "execute_result"
    }
   ],
   "source": [
    "attribute_dict"
   ]
  },
  {
   "cell_type": "code",
   "execution_count": 6,
   "id": "25fc7e17-422d-419d-845a-d3a19a0461a0",
   "metadata": {},
   "outputs": [],
   "source": [
    "freq_dict = {}\n",
    "\n",
    "def gen_freq_dict(freq_dict, input_tuple):\n",
    "    for attribute, value in input_tuple.items():\n",
    "        lst = [0, 0]\n",
    "        for d in dataset:\n",
    "            match attribute:\n",
    "                case \"age\":\n",
    "                    if d.age == value:\n",
    "                        if d.label == \"YES\":\n",
    "                            lst[0] += 1\n",
    "                        else:\n",
    "                            lst[1] += 1\n",
    "                case \"income\":\n",
    "                    if d.income == value:\n",
    "                        if d.label == \"YES\":\n",
    "                            lst[0] += 1\n",
    "                        else:\n",
    "                            lst[1] += 1\n",
    "                case \"student\":\n",
    "                    if d.student == value:\n",
    "                        if d.label == \"YES\":\n",
    "                            lst[0] += 1\n",
    "                        else:\n",
    "                            lst[1] += 1\n",
    "                case \"credit_rating\":\n",
    "                    if d.credit_rating == value:\n",
    "                        if d.label == \"YES\":\n",
    "                            lst[0] += 1\n",
    "                        else:\n",
    "                            lst[1] += 1\n",
    "        freq_dict[value] = lst\n",
    "    \n",
    "gen_freq_dict(freq_dict, input_tuple)"
   ]
  },
  {
   "cell_type": "code",
   "execution_count": 7,
   "id": "0fa29da4-c253-44eb-9604-48dc431cc107",
   "metadata": {
    "tags": []
   },
   "outputs": [
    {
     "data": {
      "text/plain": [
       "{'young': [2, 3], 'medium': [4, 2], 'yes': [6, 1], 'fair': [6, 2]}"
      ]
     },
     "execution_count": 7,
     "metadata": {},
     "output_type": "execute_result"
    }
   ],
   "source": [
    "freq_dict"
   ]
  },
  {
   "cell_type": "code",
   "execution_count": 8,
   "id": "2ba89a9c-c262-430a-bfcc-03b0ea60da22",
   "metadata": {
    "tags": []
   },
   "outputs": [
    {
     "name": "stdout",
     "output_type": "stream",
     "text": [
      "Given tuple belongs to \"YES\" class.\n"
     ]
    }
   ],
   "source": [
    "def predict_class(attribute_dict):\n",
    "    YES_instances = attribute_dict[\"label\"][\"YES\"]\n",
    "    NO_instances = attribute_dict[\"label\"][\"NO\"]\n",
    "    total_instances = len(dataset)\n",
    "\n",
    "    YES_prob = 1\n",
    "    NO_prob = 1\n",
    "\n",
    "    for freq_list in freq_dict.values():\n",
    "        YES_prob *= freq_list[0]/YES_instances\n",
    "        NO_prob *= freq_list[1]/NO_instances\n",
    "\n",
    "    YES_prob *= YES_instances/total_instances\n",
    "    NO_prob *= NO_instances/total_instances\n",
    "    \n",
    "    if YES_prob > NO_prob:\n",
    "        print(\"Given tuple belongs to \\\"YES\\\" class.\")\n",
    "    else:\n",
    "        print(\"Given tuple belongs to \\\"NO\\\" class.\")\n",
    "        \n",
    "predict_class(attribute_dict)"
   ]
  },
  {
   "cell_type": "code",
   "execution_count": null,
   "id": "1558eda2",
   "metadata": {},
   "outputs": [],
   "source": []
  }
 ],
 "metadata": {
  "kernelspec": {
   "display_name": "Python 3 (ipykernel)",
   "language": "python",
   "name": "python3"
  },
  "language_info": {
   "codemirror_mode": {
    "name": "ipython",
    "version": 3
   },
   "file_extension": ".py",
   "mimetype": "text/x-python",
   "name": "python",
   "nbconvert_exporter": "python",
   "pygments_lexer": "ipython3",
   "version": "3.9.13"
  }
 },
 "nbformat": 4,
 "nbformat_minor": 5
}
