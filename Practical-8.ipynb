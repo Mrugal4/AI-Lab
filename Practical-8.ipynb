{
 "cells": [
  {
   "cell_type": "code",
   "execution_count": 1,
   "id": "3cb3b876",
   "metadata": {
    "scrolled": true
   },
   "outputs": [
    {
     "name": "stdout",
     "output_type": "stream",
     "text": [
      "[0, 0, 0, 1]\n"
     ]
    }
   ],
   "source": [
    "#Perceptron for AND\n",
    "#INPUT OUTPUT\n",
    "# 0 0    0\n",
    "# 0 1    0\n",
    "# 1 0    0\n",
    "# 1 1    1\n",
    "w=[1,1]\n",
    "x=[[0,0],[0,1],[1,0],[1,1]]\n",
    "b=[]\n",
    "y=[]\n",
    "\n",
    "def andGate():\n",
    "    for i in range(0,4):\n",
    "        if 1 in x[i]:\n",
    "            b.append(-1)\n",
    "        else:\n",
    "            b.append(0)\n",
    "        y.append(w[0]*x[i][0]+w[1]*x[i][1]+b[i])\n",
    "            \n",
    "andGate()\n",
    "print(y)"
   ]
  },
  {
   "cell_type": "code",
   "execution_count": 6,
   "id": "4cf084a7",
   "metadata": {},
   "outputs": [
    {
     "name": "stdout",
     "output_type": "stream",
     "text": [
      "[0, 1, 1, 1]\n"
     ]
    }
   ],
   "source": [
    "#Perceptron for OR\n",
    "#INPUT OUTPUT\n",
    "# 0 0    0\n",
    "# 0 1    1\n",
    "# 1 0    1\n",
    "# 1 1    1\n",
    "\n",
    "w=[1,1]\n",
    "x=[[0,0],[0,1],[1,0],[1,1]]\n",
    "y=[]\n",
    "\n",
    "def orGate():\n",
    "    for i in x:\n",
    "        if (i[0]==0 or i[1]==0):\n",
    "            b=0\n",
    "        else:\n",
    "            b=-1\n",
    "        y.append(w[0]*i[0]+w[1]*i[1]+b)\n",
    "            \n",
    "orGate()\n",
    "print(y)"
   ]
  },
  {
   "cell_type": "code",
   "execution_count": 13,
   "id": "57a42f03",
   "metadata": {},
   "outputs": [
    {
     "name": "stdout",
     "output_type": "stream",
     "text": [
      "[1, 1, 1, 0]\n"
     ]
    }
   ],
   "source": [
    "#Perceptron for NAND\n",
    "#INPUT OUTPUT\n",
    "# 0 0    1\n",
    "# 0 1    1\n",
    "# 1 0    1\n",
    "# 1 1    0\n",
    "w=[1,1]\n",
    "x=[[0,0],[0,1],[1,0],[1,1]]\n",
    "b=[]\n",
    "y=[]\n",
    "\n",
    "def nandGate():\n",
    "    for i in range(0,4):\n",
    "        if(x[i][0]==1 and x[i][1]==1):\n",
    "            b.append(-2)\n",
    "        elif(x[i][0]==0 and x[i][1]==0):\n",
    "            b.append(1)\n",
    "        else:\n",
    "            b.append(0)\n",
    "    for j in range(0,4):\n",
    "        y.append(w[0]*x[j][0]+w[1]*x[j][1]+b[j])\n",
    "            \n",
    "nandGate()\n",
    "print(y)"
   ]
  },
  {
   "cell_type": "code",
   "execution_count": 18,
   "id": "7ffb2155",
   "metadata": {},
   "outputs": [
    {
     "name": "stdout",
     "output_type": "stream",
     "text": [
      "[1, 0, 0, 0]\n"
     ]
    }
   ],
   "source": [
    "#Perceptron for NOR\n",
    "#INPUT OUTPUT\n",
    "# 0 0    1\n",
    "# 0 1    0\n",
    "# 1 0    0\n",
    "# 1 1    0\n",
    "w=[1,1]\n",
    "x=[[0,0],[0,1],[1,0],[1,1]]\n",
    "b=[1,-1,-1,-2]\n",
    "y=[]\n",
    "\n",
    "def norGate():\n",
    "    for i in range(0,4):\n",
    "        y.append(w[0]*x[i][0]+w[1]*x[i][1]+b[i])\n",
    "norGate()\n",
    "print(y)"
   ]
  },
  {
   "cell_type": "code",
   "execution_count": null,
   "id": "ae39e933",
   "metadata": {},
   "outputs": [],
   "source": []
  }
 ],
 "metadata": {
  "kernelspec": {
   "display_name": "Python 3 (ipykernel)",
   "language": "python",
   "name": "python3"
  },
  "language_info": {
   "codemirror_mode": {
    "name": "ipython",
    "version": 3
   },
   "file_extension": ".py",
   "mimetype": "text/x-python",
   "name": "python",
   "nbconvert_exporter": "python",
   "pygments_lexer": "ipython3",
   "version": "3.9.13"
  }
 },
 "nbformat": 4,
 "nbformat_minor": 5
}
